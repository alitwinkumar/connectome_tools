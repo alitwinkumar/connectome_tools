{
 "cells": [
  {
   "cell_type": "code",
   "execution_count": 1,
   "metadata": {},
   "outputs": [],
   "source": [
    "import connectome_tools\n",
    "from connectome_tools import load_flywire"
   ]
  },
  {
   "cell_type": "code",
   "execution_count": 2,
   "metadata": {},
   "outputs": [],
   "source": [
    "connectome_path = \"/Users/chase/Documents/science/drosophila/connectomes/flywire\""
   ]
  },
  {
   "cell_type": "markdown",
   "metadata": {},
   "source": [
    "Example view return values of `load_flywire`"
   ]
  },
  {
   "cell_type": "code",
   "execution_count": 3,
   "metadata": {},
   "outputs": [],
   "source": [
    "neurons, J, J_by_transmitter = load_flywire(connectome_path, by_nts=True, include_spatial=True)"
   ]
  },
  {
   "cell_type": "code",
   "execution_count": 4,
   "metadata": {},
   "outputs": [
    {
     "data": {
      "text/html": [
       "<div>\n",
       "<style scoped>\n",
       "    .dataframe tbody tr th:only-of-type {\n",
       "        vertical-align: middle;\n",
       "    }\n",
       "\n",
       "    .dataframe tbody tr th {\n",
       "        vertical-align: top;\n",
       "    }\n",
       "\n",
       "    .dataframe thead th {\n",
       "        text-align: right;\n",
       "    }\n",
       "</style>\n",
       "<table border=\"1\" class=\"dataframe\">\n",
       "  <thead>\n",
       "    <tr style=\"text-align: right;\">\n",
       "      <th></th>\n",
       "      <th>root_id</th>\n",
       "      <th>group</th>\n",
       "      <th>nt_type</th>\n",
       "      <th>nt_type_score</th>\n",
       "      <th>da_avg</th>\n",
       "      <th>ser_avg</th>\n",
       "      <th>gaba_avg</th>\n",
       "      <th>glut_avg</th>\n",
       "      <th>ach_avg</th>\n",
       "      <th>oct_avg</th>\n",
       "      <th>...</th>\n",
       "      <th>y_presyn</th>\n",
       "      <th>z_presyn</th>\n",
       "      <th>rho_presyn</th>\n",
       "      <th>x_postsyn</th>\n",
       "      <th>y_postsyn</th>\n",
       "      <th>z_postsyn</th>\n",
       "      <th>rho_postsyn</th>\n",
       "      <th>J_idx</th>\n",
       "      <th>J_idx_post</th>\n",
       "      <th>J_idx_pre</th>\n",
       "    </tr>\n",
       "  </thead>\n",
       "  <tbody>\n",
       "    <tr>\n",
       "      <th>0</th>\n",
       "      <td>720575940596125868</td>\n",
       "      <td>LO.LOP</td>\n",
       "      <td>ACH</td>\n",
       "      <td>0.57</td>\n",
       "      <td>0.03</td>\n",
       "      <td>0.00</td>\n",
       "      <td>0.05</td>\n",
       "      <td>0.28</td>\n",
       "      <td>0.57</td>\n",
       "      <td>0.07</td>\n",
       "      <td>...</td>\n",
       "      <td>272101.653061</td>\n",
       "      <td>222686.938776</td>\n",
       "      <td>4042.849284</td>\n",
       "      <td>704764.909091</td>\n",
       "      <td>264664.323232</td>\n",
       "      <td>207074.343434</td>\n",
       "      <td>7845.089935</td>\n",
       "      <td>0</td>\n",
       "      <td>0</td>\n",
       "      <td>0</td>\n",
       "    </tr>\n",
       "    <tr>\n",
       "      <th>1</th>\n",
       "      <td>720575940597856265</td>\n",
       "      <td>ME</td>\n",
       "      <td>ACH</td>\n",
       "      <td>0.85</td>\n",
       "      <td>0.01</td>\n",
       "      <td>0.00</td>\n",
       "      <td>0.03</td>\n",
       "      <td>0.04</td>\n",
       "      <td>0.85</td>\n",
       "      <td>0.07</td>\n",
       "      <td>...</td>\n",
       "      <td>332566.478803</td>\n",
       "      <td>182284.339152</td>\n",
       "      <td>59616.487007</td>\n",
       "      <td>794721.243243</td>\n",
       "      <td>343001.924324</td>\n",
       "      <td>196943.351351</td>\n",
       "      <td>32958.807523</td>\n",
       "      <td>1</td>\n",
       "      <td>1</td>\n",
       "      <td>1</td>\n",
       "    </tr>\n",
       "    <tr>\n",
       "      <th>2</th>\n",
       "      <td>720575940597944841</td>\n",
       "      <td>ME.LO</td>\n",
       "      <td>ACH</td>\n",
       "      <td>0.82</td>\n",
       "      <td>0.02</td>\n",
       "      <td>0.00</td>\n",
       "      <td>0.01</td>\n",
       "      <td>0.05</td>\n",
       "      <td>0.82</td>\n",
       "      <td>0.09</td>\n",
       "      <td>...</td>\n",
       "      <td>315764.235294</td>\n",
       "      <td>162995.686275</td>\n",
       "      <td>51912.273723</td>\n",
       "      <td>768345.622642</td>\n",
       "      <td>334740.452830</td>\n",
       "      <td>167122.641509</td>\n",
       "      <td>39562.699008</td>\n",
       "      <td>2</td>\n",
       "      <td>2</td>\n",
       "      <td>2</td>\n",
       "    </tr>\n",
       "    <tr>\n",
       "      <th>3</th>\n",
       "      <td>720575940598267657</td>\n",
       "      <td>ME</td>\n",
       "      <td>GABA</td>\n",
       "      <td>0.74</td>\n",
       "      <td>0.01</td>\n",
       "      <td>0.01</td>\n",
       "      <td>0.74</td>\n",
       "      <td>0.19</td>\n",
       "      <td>0.03</td>\n",
       "      <td>0.02</td>\n",
       "      <td>...</td>\n",
       "      <td>291869.890909</td>\n",
       "      <td>153360.000000</td>\n",
       "      <td>49137.756450</td>\n",
       "      <td>702150.015000</td>\n",
       "      <td>288316.140000</td>\n",
       "      <td>164957.700000</td>\n",
       "      <td>49340.892492</td>\n",
       "      <td>3</td>\n",
       "      <td>3</td>\n",
       "      <td>3</td>\n",
       "    </tr>\n",
       "    <tr>\n",
       "      <th>4</th>\n",
       "      <td>720575940599333574</td>\n",
       "      <td>ME</td>\n",
       "      <td>ACH</td>\n",
       "      <td>0.61</td>\n",
       "      <td>0.02</td>\n",
       "      <td>0.00</td>\n",
       "      <td>0.13</td>\n",
       "      <td>0.13</td>\n",
       "      <td>0.61</td>\n",
       "      <td>0.11</td>\n",
       "      <td>...</td>\n",
       "      <td>301811.971919</td>\n",
       "      <td>131105.304212</td>\n",
       "      <td>29792.392699</td>\n",
       "      <td>723454.892086</td>\n",
       "      <td>307819.510791</td>\n",
       "      <td>105889.352518</td>\n",
       "      <td>15150.823995</td>\n",
       "      <td>4</td>\n",
       "      <td>4</td>\n",
       "      <td>4</td>\n",
       "    </tr>\n",
       "  </tbody>\n",
       "</table>\n",
       "<p>5 rows × 33 columns</p>\n",
       "</div>"
      ],
      "text/plain": [
       "              root_id   group nt_type  nt_type_score  da_avg  ser_avg  \\\n",
       "0  720575940596125868  LO.LOP     ACH           0.57    0.03     0.00   \n",
       "1  720575940597856265      ME     ACH           0.85    0.01     0.00   \n",
       "2  720575940597944841   ME.LO     ACH           0.82    0.02     0.00   \n",
       "3  720575940598267657      ME    GABA           0.74    0.01     0.01   \n",
       "4  720575940599333574      ME     ACH           0.61    0.02     0.00   \n",
       "\n",
       "   gaba_avg  glut_avg  ach_avg  oct_avg  ...       y_presyn       z_presyn  \\\n",
       "0      0.05      0.28     0.57     0.07  ...  272101.653061  222686.938776   \n",
       "1      0.03      0.04     0.85     0.07  ...  332566.478803  182284.339152   \n",
       "2      0.01      0.05     0.82     0.09  ...  315764.235294  162995.686275   \n",
       "3      0.74      0.19     0.03     0.02  ...  291869.890909  153360.000000   \n",
       "4      0.13      0.13     0.61     0.11  ...  301811.971919  131105.304212   \n",
       "\n",
       "     rho_presyn      x_postsyn      y_postsyn      z_postsyn   rho_postsyn  \\\n",
       "0   4042.849284  704764.909091  264664.323232  207074.343434   7845.089935   \n",
       "1  59616.487007  794721.243243  343001.924324  196943.351351  32958.807523   \n",
       "2  51912.273723  768345.622642  334740.452830  167122.641509  39562.699008   \n",
       "3  49137.756450  702150.015000  288316.140000  164957.700000  49340.892492   \n",
       "4  29792.392699  723454.892086  307819.510791  105889.352518  15150.823995   \n",
       "\n",
       "  J_idx J_idx_post  J_idx_pre  \n",
       "0     0          0          0  \n",
       "1     1          1          1  \n",
       "2     2          2          2  \n",
       "3     3          3          3  \n",
       "4     4          4          4  \n",
       "\n",
       "[5 rows x 33 columns]"
      ]
     },
     "execution_count": 4,
     "metadata": {},
     "output_type": "execute_result"
    }
   ],
   "source": [
    "neurons.head()"
   ]
  },
  {
   "cell_type": "code",
   "execution_count": 5,
   "metadata": {},
   "outputs": [
    {
     "data": {
      "text/plain": [
       "<139255x139255 sparse matrix of type '<class 'numpy.int16'>'\n",
       "\twith 3869878 stored elements in Compressed Sparse Row format>"
      ]
     },
     "execution_count": 5,
     "metadata": {},
     "output_type": "execute_result"
    }
   ],
   "source": [
    "J"
   ]
  },
  {
   "cell_type": "code",
   "execution_count": 6,
   "metadata": {},
   "outputs": [
    {
     "data": {
      "text/plain": [
       "{'ACH': <139255x139255 sparse matrix of type '<class 'numpy.int16'>'\n",
       " \twith 2258155 stored elements in Compressed Sparse Row format>,\n",
       " 'DA': <139255x139255 sparse matrix of type '<class 'numpy.int16'>'\n",
       " \twith 37705 stored elements in Compressed Sparse Row format>,\n",
       " 'GABA': <139255x139255 sparse matrix of type '<class 'numpy.int16'>'\n",
       " \twith 865318 stored elements in Compressed Sparse Row format>,\n",
       " 'GLUT': <139255x139255 sparse matrix of type '<class 'numpy.int16'>'\n",
       " \twith 654183 stored elements in Compressed Sparse Row format>,\n",
       " 'OCT': <139255x139255 sparse matrix of type '<class 'numpy.int16'>'\n",
       " \twith 17067 stored elements in Compressed Sparse Row format>,\n",
       " 'SER': <139255x139255 sparse matrix of type '<class 'numpy.int16'>'\n",
       " \twith 37450 stored elements in Compressed Sparse Row format>}"
      ]
     },
     "execution_count": 6,
     "metadata": {},
     "output_type": "execute_result"
    }
   ],
   "source": [
    "J_by_transmitter"
   ]
  },
  {
   "cell_type": "code",
   "execution_count": null,
   "metadata": {},
   "outputs": [],
   "source": []
  }
 ],
 "metadata": {
  "kernelspec": {
   "display_name": "connectome",
   "language": "python",
   "name": "python3"
  },
  "language_info": {
   "codemirror_mode": {
    "name": "ipython",
    "version": 3
   },
   "file_extension": ".py",
   "mimetype": "text/x-python",
   "name": "python",
   "nbconvert_exporter": "python",
   "pygments_lexer": "ipython3",
   "version": "3.11.9"
  }
 },
 "nbformat": 4,
 "nbformat_minor": 2
}
