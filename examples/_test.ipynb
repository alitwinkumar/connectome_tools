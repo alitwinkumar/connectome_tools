{
 "cells": [
  {
   "cell_type": "code",
   "execution_count": 1,
   "metadata": {},
   "outputs": [],
   "source": [
    "import connectome_tools\n",
    "from connectome_tools import load_flywire"
   ]
  },
  {
   "cell_type": "code",
   "execution_count": 2,
   "metadata": {},
   "outputs": [],
   "source": [
    "connectome_path = \"/Users/chase/Documents/science/drosophila/connectomes/flywire\""
   ]
  },
  {
   "cell_type": "markdown",
   "metadata": {},
   "source": [
    "Example view return values of `load_flywire`"
   ]
  },
  {
   "cell_type": "code",
   "execution_count": 3,
   "metadata": {},
   "outputs": [],
   "source": [
    "neurons, J, J_by_transmitter = load_flywire(connectome_path, by_nts=True, include_spatial=True)"
   ]
  },
  {
   "cell_type": "code",
   "execution_count": 4,
   "metadata": {},
   "outputs": [
    {
     "data": {
      "text/html": [
       "<div>\n",
       "<style scoped>\n",
       "    .dataframe tbody tr th:only-of-type {\n",
       "        vertical-align: middle;\n",
       "    }\n",
       "\n",
       "    .dataframe tbody tr th {\n",
       "        vertical-align: top;\n",
       "    }\n",
       "\n",
       "    .dataframe thead th {\n",
       "        text-align: right;\n",
       "    }\n",
       "</style>\n",
       "<table border=\"1\" class=\"dataframe\">\n",
       "  <thead>\n",
       "    <tr style=\"text-align: right;\">\n",
       "      <th></th>\n",
       "      <th>root_id</th>\n",
       "      <th>group</th>\n",
       "      <th>nt_type</th>\n",
       "      <th>nt_type_score</th>\n",
       "      <th>da_avg</th>\n",
       "      <th>ser_avg</th>\n",
       "      <th>gaba_avg</th>\n",
       "      <th>glut_avg</th>\n",
       "      <th>ach_avg</th>\n",
       "      <th>oct_avg</th>\n",
       "      <th>...</th>\n",
       "      <th>hemibrain_type</th>\n",
       "      <th>hemilineage</th>\n",
       "      <th>side</th>\n",
       "      <th>nerve</th>\n",
       "      <th>x</th>\n",
       "      <th>y</th>\n",
       "      <th>z</th>\n",
       "      <th>J_idx</th>\n",
       "      <th>J_idx_post</th>\n",
       "      <th>J_idx_pre</th>\n",
       "    </tr>\n",
       "  </thead>\n",
       "  <tbody>\n",
       "    <tr>\n",
       "      <th>0</th>\n",
       "      <td>720575940596125868</td>\n",
       "      <td>LO.LOP</td>\n",
       "      <td>ACH</td>\n",
       "      <td>0.57</td>\n",
       "      <td>0.03</td>\n",
       "      <td>0.00</td>\n",
       "      <td>0.05</td>\n",
       "      <td>0.28</td>\n",
       "      <td>0.57</td>\n",
       "      <td>0.07</td>\n",
       "      <td>...</td>\n",
       "      <td>NaN</td>\n",
       "      <td>NaN</td>\n",
       "      <td>right</td>\n",
       "      <td>NaN</td>\n",
       "      <td>710944.0</td>\n",
       "      <td>262716.0</td>\n",
       "      <td>205680.0</td>\n",
       "      <td>0</td>\n",
       "      <td>0</td>\n",
       "      <td>0</td>\n",
       "    </tr>\n",
       "    <tr>\n",
       "      <th>1</th>\n",
       "      <td>720575940597856265</td>\n",
       "      <td>ME</td>\n",
       "      <td>ACH</td>\n",
       "      <td>0.85</td>\n",
       "      <td>0.01</td>\n",
       "      <td>0.00</td>\n",
       "      <td>0.03</td>\n",
       "      <td>0.04</td>\n",
       "      <td>0.85</td>\n",
       "      <td>0.07</td>\n",
       "      <td>...</td>\n",
       "      <td>NaN</td>\n",
       "      <td>NaN</td>\n",
       "      <td>right</td>\n",
       "      <td>NaN</td>\n",
       "      <td>809802.0</td>\n",
       "      <td>350646.0</td>\n",
       "      <td>202660.0</td>\n",
       "      <td>1</td>\n",
       "      <td>1</td>\n",
       "      <td>1</td>\n",
       "    </tr>\n",
       "    <tr>\n",
       "      <th>2</th>\n",
       "      <td>720575940597944841</td>\n",
       "      <td>ME.LO</td>\n",
       "      <td>ACH</td>\n",
       "      <td>0.82</td>\n",
       "      <td>0.02</td>\n",
       "      <td>0.00</td>\n",
       "      <td>0.01</td>\n",
       "      <td>0.05</td>\n",
       "      <td>0.82</td>\n",
       "      <td>0.09</td>\n",
       "      <td>...</td>\n",
       "      <td>NaN</td>\n",
       "      <td>NaN</td>\n",
       "      <td>right</td>\n",
       "      <td>NaN</td>\n",
       "      <td>754392.0</td>\n",
       "      <td>331248.0</td>\n",
       "      <td>183360.0</td>\n",
       "      <td>2</td>\n",
       "      <td>2</td>\n",
       "      <td>2</td>\n",
       "    </tr>\n",
       "    <tr>\n",
       "      <th>3</th>\n",
       "      <td>720575940598267657</td>\n",
       "      <td>ME</td>\n",
       "      <td>GABA</td>\n",
       "      <td>0.74</td>\n",
       "      <td>0.01</td>\n",
       "      <td>0.01</td>\n",
       "      <td>0.74</td>\n",
       "      <td>0.19</td>\n",
       "      <td>0.03</td>\n",
       "      <td>0.02</td>\n",
       "      <td>...</td>\n",
       "      <td>NaN</td>\n",
       "      <td>NaN</td>\n",
       "      <td>right</td>\n",
       "      <td>NaN</td>\n",
       "      <td>721164.0</td>\n",
       "      <td>298276.0</td>\n",
       "      <td>135720.0</td>\n",
       "      <td>3</td>\n",
       "      <td>3</td>\n",
       "      <td>3</td>\n",
       "    </tr>\n",
       "    <tr>\n",
       "      <th>4</th>\n",
       "      <td>720575940599333574</td>\n",
       "      <td>ME</td>\n",
       "      <td>ACH</td>\n",
       "      <td>0.61</td>\n",
       "      <td>0.02</td>\n",
       "      <td>0.00</td>\n",
       "      <td>0.13</td>\n",
       "      <td>0.13</td>\n",
       "      <td>0.61</td>\n",
       "      <td>0.11</td>\n",
       "      <td>...</td>\n",
       "      <td>NaN</td>\n",
       "      <td>NaN</td>\n",
       "      <td>right</td>\n",
       "      <td>NaN</td>\n",
       "      <td>694048.0</td>\n",
       "      <td>316512.0</td>\n",
       "      <td>83840.0</td>\n",
       "      <td>4</td>\n",
       "      <td>4</td>\n",
       "      <td>4</td>\n",
       "    </tr>\n",
       "  </tbody>\n",
       "</table>\n",
       "<p>5 rows × 25 columns</p>\n",
       "</div>"
      ],
      "text/plain": [
       "              root_id   group nt_type  nt_type_score  da_avg  ser_avg  \\\n",
       "0  720575940596125868  LO.LOP     ACH           0.57    0.03     0.00   \n",
       "1  720575940597856265      ME     ACH           0.85    0.01     0.00   \n",
       "2  720575940597944841   ME.LO     ACH           0.82    0.02     0.00   \n",
       "3  720575940598267657      ME    GABA           0.74    0.01     0.01   \n",
       "4  720575940599333574      ME     ACH           0.61    0.02     0.00   \n",
       "\n",
       "   gaba_avg  glut_avg  ach_avg  oct_avg  ... hemibrain_type hemilineage  \\\n",
       "0      0.05      0.28     0.57     0.07  ...            NaN         NaN   \n",
       "1      0.03      0.04     0.85     0.07  ...            NaN         NaN   \n",
       "2      0.01      0.05     0.82     0.09  ...            NaN         NaN   \n",
       "3      0.74      0.19     0.03     0.02  ...            NaN         NaN   \n",
       "4      0.13      0.13     0.61     0.11  ...            NaN         NaN   \n",
       "\n",
       "    side nerve         x         y         z J_idx J_idx_post  J_idx_pre  \n",
       "0  right   NaN  710944.0  262716.0  205680.0     0          0          0  \n",
       "1  right   NaN  809802.0  350646.0  202660.0     1          1          1  \n",
       "2  right   NaN  754392.0  331248.0  183360.0     2          2          2  \n",
       "3  right   NaN  721164.0  298276.0  135720.0     3          3          3  \n",
       "4  right   NaN  694048.0  316512.0   83840.0     4          4          4  \n",
       "\n",
       "[5 rows x 25 columns]"
      ]
     },
     "execution_count": 4,
     "metadata": {},
     "output_type": "execute_result"
    }
   ],
   "source": [
    "neurons.head()"
   ]
  },
  {
   "cell_type": "code",
   "execution_count": 7,
   "metadata": {},
   "outputs": [
    {
     "data": {
      "text/plain": [
       "<139255x139255 sparse matrix of type '<class 'numpy.int16'>'\n",
       "\twith 2700513 stored elements in Compressed Sparse Row format>"
      ]
     },
     "execution_count": 7,
     "metadata": {},
     "output_type": "execute_result"
    }
   ],
   "source": [
    "J"
   ]
  },
  {
   "cell_type": "code",
   "execution_count": 6,
   "metadata": {},
   "outputs": [
    {
     "data": {
      "text/plain": [
       "{'ACH': <139255x139255 sparse matrix of type '<class 'numpy.int64'>'\n",
       " \twith 2258155 stored elements in Compressed Sparse Row format>,\n",
       " 'DA': <139255x139255 sparse matrix of type '<class 'numpy.int64'>'\n",
       " \twith 37705 stored elements in Compressed Sparse Row format>,\n",
       " 'GABA': <139255x139255 sparse matrix of type '<class 'numpy.int64'>'\n",
       " \twith 865318 stored elements in Compressed Sparse Row format>,\n",
       " 'GLUT': <139255x139255 sparse matrix of type '<class 'numpy.int64'>'\n",
       " \twith 654183 stored elements in Compressed Sparse Row format>,\n",
       " 'OCT': <139255x139255 sparse matrix of type '<class 'numpy.int64'>'\n",
       " \twith 17067 stored elements in Compressed Sparse Row format>,\n",
       " 'SER': <139255x139255 sparse matrix of type '<class 'numpy.int64'>'\n",
       " \twith 37450 stored elements in Compressed Sparse Row format>}"
      ]
     },
     "execution_count": 6,
     "metadata": {},
     "output_type": "execute_result"
    }
   ],
   "source": [
    "J_by_transmitter"
   ]
  },
  {
   "cell_type": "code",
   "execution_count": null,
   "metadata": {},
   "outputs": [],
   "source": []
  }
 ],
 "metadata": {
  "kernelspec": {
   "display_name": "connectome",
   "language": "python",
   "name": "python3"
  },
  "language_info": {
   "codemirror_mode": {
    "name": "ipython",
    "version": 3
   },
   "file_extension": ".py",
   "mimetype": "text/x-python",
   "name": "python",
   "nbconvert_exporter": "python",
   "pygments_lexer": "ipython3",
   "version": "3.11.9"
  }
 },
 "nbformat": 4,
 "nbformat_minor": 2
}
